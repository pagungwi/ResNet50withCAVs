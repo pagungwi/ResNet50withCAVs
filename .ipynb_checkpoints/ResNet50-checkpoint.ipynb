{
 "cells": [
  {
   "cell_type": "code",
   "execution_count": 21,
   "id": "9b23ae64-ba90-4894-979d-da92a31458dd",
   "metadata": {
    "tags": []
   },
   "outputs": [],
   "source": [
    "from tensorflow.keras.layers import Conv2D, Flatten, Dense, MaxPooling2D, BatchNormalization, GlobalAveragePooling2D\n",
    "from tensorflow.keras.applications.resnet50 import preprocess_input, decode_predictions\n",
    "from tensorflow.keras.preprocessing.image import ImageDataGenerator, load_img\n",
    "from tensorflow.keras.applications.resnet50 import ResNet50\n",
    "from tensorflow.keras.preprocessing import image\n",
    "from tensorflow.keras.models import Sequential\n",
    "from tensorflow.keras.models import Model\n",
    "import matplotlib.pyplot as plt\n",
    "import numpy as np\n",
    "import os"
   ]
  },
  {
   "cell_type": "code",
   "execution_count": 29,
   "id": "5e4d865b-4702-45f3-afe4-4143651f227f",
   "metadata": {},
   "outputs": [],
   "source": [
    "img_height, img_width = (224,224)\n",
    "batch_size = 32\n",
    "seed=99\n",
    "\n",
    "train_data_dir = os.path.abspath(r\"CAVs/Main_Trail/Train/imgs\")\n",
    "test_data_dir = r\"CAVs/Main_Trail/Test/imgs\"\n",
    "mask_train_data_dir = r\"CAVs/Main_Trail/Train/masks\"\n",
    "mask_test_data_dir = r\"CAVs/Main_Trail/Test/masks\"\n"
   ]
  },
  {
   "cell_type": "code",
   "execution_count": 30,
   "id": "56c6db59-6e66-4e2c-a9e3-c715f95da97d",
   "metadata": {},
   "outputs": [
    {
     "name": "stdout",
     "output_type": "stream",
     "text": [
      "Found 1 images belonging to 1 classes.\n",
      "Found 1 images belonging to 1 classes.\n"
     ]
    }
   ],
   "source": [
    "#training data\n",
    "image_datagen = ImageDataGenerator(width_shift_range = 0.1, height_shift_range=0.1,preprocessing_function=preprocess_input)\n",
    "mask_datagen = ImageDataGenerator(width_shift_range = 0.1, height_shift_range=0.1,preprocessing_function=preprocess_input)\n",
    "\n",
    "image_generator = image_datagen.flow_from_directory(train_data_dir, target_size=(img_height, img_width), batch_size=batch_size, seed=seed, class_mode = None)\n",
    "mask_generator = mask_datagen.flow_from_directory(mask_train_data_dir, target_size=(img_height, img_width), batch_size=batch_size, seed=seed, class_mode = None)\n",
    "\n",
    "train_generator = zip(image_generator, mask_generator)"
   ]
  },
  {
   "cell_type": "code",
   "execution_count": 31,
   "id": "8ef9f52d-35d9-425d-b2de-f1d464692ce5",
   "metadata": {
    "tags": []
   },
   "outputs": [
    {
     "name": "stdout",
     "output_type": "stream",
     "text": [
      "Found 0 images belonging to 0 classes.\n"
     ]
    }
   ],
   "source": [
    "#testing data\n",
    "test_generator = image_datagen.flow_from_directory(test_data_dir, target_size=(img_height, img_width), batch_size=batch_size, seed=seed, class_mode = None)\n"
   ]
  },
  {
   "cell_type": "code",
   "execution_count": null,
   "id": "44a4482a-5fc1-4401-87f6-f85aa7d7bbe5",
   "metadata": {},
   "outputs": [],
   "source": []
  }
 ],
 "metadata": {
  "kernelspec": {
   "display_name": "Python 3 (mlbd)",
   "language": "python",
   "name": "mlbd"
  },
  "language_info": {
   "codemirror_mode": {
    "name": "ipython",
    "version": 3
   },
   "file_extension": ".py",
   "mimetype": "text/x-python",
   "name": "python",
   "nbconvert_exporter": "python",
   "pygments_lexer": "ipython3",
   "version": "3.7.16"
  }
 },
 "nbformat": 4,
 "nbformat_minor": 5
}
