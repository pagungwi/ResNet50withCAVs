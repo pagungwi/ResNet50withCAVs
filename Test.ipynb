{
 "cells": [
  {
   "cell_type": "code",
   "execution_count": 1,
   "id": "d25448c0-51cc-481c-a788-6abb26fea2d2",
   "metadata": {
    "tags": []
   },
   "outputs": [],
   "source": [
    "from PIL import Image\n",
    "import os\n"
   ]
  },
  {
   "cell_type": "code",
   "execution_count": 3,
   "id": "8c668ed2-f63f-4f27-867d-991455b9230b",
   "metadata": {
    "tags": []
   },
   "outputs": [],
   "source": [
    "image_pt = 'CAVS/Main_Trail/Test/imgs/img_202.png'"
   ]
  },
  {
   "cell_type": "code",
   "execution_count": 5,
   "id": "2a253832-9b41-4171-b4e0-cb7712567791",
   "metadata": {
    "tags": []
   },
   "outputs": [
    {
     "name": "stdout",
     "output_type": "stream",
     "text": [
      "The original size of the image is 960x604\n"
     ]
    }
   ],
   "source": [
    "with Image.open(image_pt) as img:\n",
    "    # Get the size\n",
    "    width, height = img.size\n",
    "    print(f'The original size of the image is {width}x{height}')"
   ]
  },
  {
   "cell_type": "code",
   "execution_count": null,
   "id": "55e72463-4112-4b97-927c-4389a8cd79c3",
   "metadata": {},
   "outputs": [],
   "source": []
  }
 ],
 "metadata": {
  "kernelspec": {
   "display_name": "Python 3 (mlbd)",
   "language": "python",
   "name": "mlbd"
  },
  "language_info": {
   "codemirror_mode": {
    "name": "ipython",
    "version": 3
   },
   "file_extension": ".py",
   "mimetype": "text/x-python",
   "name": "python",
   "nbconvert_exporter": "python",
   "pygments_lexer": "ipython3",
   "version": "3.7.16"
  }
 },
 "nbformat": 4,
 "nbformat_minor": 5
}
